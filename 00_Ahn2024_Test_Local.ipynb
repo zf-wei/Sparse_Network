{
 "cells": [
  {
   "cell_type": "code",
   "execution_count": 1,
   "id": "initial_id",
   "metadata": {
    "ExecuteTime": {
     "end_time": "2024-10-30T02:51:30.213012Z",
     "start_time": "2024-10-30T02:51:30.209867Z"
    },
    "collapsed": true
   },
   "outputs": [
    {
     "name": "stdout",
     "output_type": "stream",
     "text": [
      "/qfs/people/weiz828/Ahn2024\n"
     ]
    }
   ],
   "source": [
    "import os\n",
    "\n",
    "# This is a test \n",
    "\n",
    "print(os.getcwd())"
   ]
  },
  {
   "metadata": {
    "ExecuteTime": {
     "end_time": "2024-11-05T19:28:42.791552Z",
     "start_time": "2024-11-05T19:26:21.248841Z"
    }
   },
   "cell_type": "code",
   "source": [
    "from networkx.generators.community import LFR_benchmark_graph\n",
    "import numpy as np\n",
    "\n",
    "step_total = 10\n",
    "step_size = 0.05\n",
    "\n",
    "n = 10000\n",
    "tau1 = 2  # Power-law exponent for the degree distribution\n",
    "tau2 = 1.1  # Power-law exponent for the community size distribution\n",
    "avg_deg = 25  # Average Degree\n",
    "max_deg = int(0.1 * n)  # Max Degree\n",
    "min_commu = 400  # Min Community Size\n",
    "max_commu = int(0.1 * n)  # Max Community Size   \n",
    "       \n",
    "MU = np.around(np.arange(step_size, step_size * step_total + 0.01, step_size), decimals=2)\n",
    "\n",
    "for mu in MU:\n",
    "    print(mu, \"started\")\n",
    "    G = LFR_benchmark_graph(\n",
    "        n, tau1, tau2, mu, average_degree=avg_deg, max_degree=max_deg,\n",
    "        min_community=min_commu, max_community=max_commu, seed=2024\n",
    "    )\n",
    "    print(mu, \"completed\")"
   ],
   "id": "947e86a072b1e36d",
   "outputs": [
    {
     "name": "stdout",
     "output_type": "stream",
     "text": [
      "0.05 started\n"
     ]
    },
    {
     "ename": "ExceededMaxIterations",
     "evalue": "Could not assign communities; try increasing min_community",
     "output_type": "error",
     "traceback": [
      "\u001B[1;31m---------------------------------------------------------------------------\u001B[0m",
      "\u001B[1;31mExceededMaxIterations\u001B[0m                     Traceback (most recent call last)",
      "Cell \u001B[1;32mIn[1], line 19\u001B[0m\n\u001B[0;32m     17\u001B[0m \u001B[38;5;28;01mfor\u001B[39;00m mu \u001B[38;5;129;01min\u001B[39;00m MU:\n\u001B[0;32m     18\u001B[0m     \u001B[38;5;28mprint\u001B[39m(mu, \u001B[38;5;124m\"\u001B[39m\u001B[38;5;124mstarted\u001B[39m\u001B[38;5;124m\"\u001B[39m)\n\u001B[1;32m---> 19\u001B[0m     G \u001B[38;5;241m=\u001B[39m LFR_benchmark_graph(\n\u001B[0;32m     20\u001B[0m         n, tau1, tau2, mu, average_degree\u001B[38;5;241m=\u001B[39mavg_deg, max_degree\u001B[38;5;241m=\u001B[39mmax_deg,\n\u001B[0;32m     21\u001B[0m         min_community\u001B[38;5;241m=\u001B[39mmin_commu, max_community\u001B[38;5;241m=\u001B[39mmax_commu, seed\u001B[38;5;241m=\u001B[39m\u001B[38;5;241m2024\u001B[39m\n\u001B[0;32m     22\u001B[0m     )\n\u001B[0;32m     23\u001B[0m     \u001B[38;5;28mprint\u001B[39m(mu, \u001B[38;5;124m\"\u001B[39m\u001B[38;5;124mcompleted\u001B[39m\u001B[38;5;124m\"\u001B[39m)\n",
      "File \u001B[1;32m~\\.conda\\envs\\iub\\Lib\\site-packages\\networkx\\utils\\decorators.py:770\u001B[0m, in \u001B[0;36margmap.__call__.<locals>.func\u001B[1;34m(_argmap__wrapper, *args, **kwargs)\u001B[0m\n\u001B[0;32m    769\u001B[0m \u001B[38;5;28;01mdef\u001B[39;00m \u001B[38;5;21mfunc\u001B[39m(\u001B[38;5;241m*\u001B[39margs, __wrapper\u001B[38;5;241m=\u001B[39m\u001B[38;5;28;01mNone\u001B[39;00m, \u001B[38;5;241m*\u001B[39m\u001B[38;5;241m*\u001B[39mkwargs):\n\u001B[1;32m--> 770\u001B[0m     \u001B[38;5;28;01mreturn\u001B[39;00m argmap\u001B[38;5;241m.\u001B[39m_lazy_compile(__wrapper)(\u001B[38;5;241m*\u001B[39margs, \u001B[38;5;241m*\u001B[39m\u001B[38;5;241m*\u001B[39mkwargs)\n",
      "File \u001B[1;32m<class 'networkx.utils.decorators.argmap'> compilation 4:4\u001B[0m, in \u001B[0;36margmap_LFR_benchmark_graph_1\u001B[1;34m(n, tau1, tau2, mu, average_degree, min_degree, max_degree, min_community, max_community, tol, max_iters, seed, backend, **backend_kwargs)\u001B[0m\n\u001B[0;32m      2\u001B[0m \u001B[38;5;28;01mimport\u001B[39;00m \u001B[38;5;21;01mcollections\u001B[39;00m\n\u001B[0;32m      3\u001B[0m \u001B[38;5;28;01mimport\u001B[39;00m \u001B[38;5;21;01mgzip\u001B[39;00m\n\u001B[1;32m----> 4\u001B[0m \u001B[38;5;28;01mimport\u001B[39;00m \u001B[38;5;21;01minspect\u001B[39;00m\n\u001B[0;32m      5\u001B[0m \u001B[38;5;28;01mimport\u001B[39;00m \u001B[38;5;21;01mitertools\u001B[39;00m\n\u001B[0;32m      6\u001B[0m \u001B[38;5;28;01mimport\u001B[39;00m \u001B[38;5;21;01mre\u001B[39;00m\n",
      "File \u001B[1;32m~\\.conda\\envs\\iub\\Lib\\site-packages\\networkx\\utils\\backends.py:412\u001B[0m, in \u001B[0;36m_dispatch.__call__\u001B[1;34m(self, backend, *args, **kwargs)\u001B[0m\n\u001B[0;32m    409\u001B[0m \u001B[38;5;28;01mdef\u001B[39;00m \u001B[38;5;21m__call__\u001B[39m(\u001B[38;5;28mself\u001B[39m, \u001B[38;5;241m/\u001B[39m, \u001B[38;5;241m*\u001B[39margs, backend\u001B[38;5;241m=\u001B[39m\u001B[38;5;28;01mNone\u001B[39;00m, \u001B[38;5;241m*\u001B[39m\u001B[38;5;241m*\u001B[39mkwargs):\n\u001B[0;32m    410\u001B[0m     \u001B[38;5;28;01mif\u001B[39;00m \u001B[38;5;129;01mnot\u001B[39;00m backends:\n\u001B[0;32m    411\u001B[0m         \u001B[38;5;66;03m# Fast path if no backends are installed\u001B[39;00m\n\u001B[1;32m--> 412\u001B[0m         \u001B[38;5;28;01mreturn\u001B[39;00m \u001B[38;5;28mself\u001B[39m\u001B[38;5;241m.\u001B[39morig_func(\u001B[38;5;241m*\u001B[39margs, \u001B[38;5;241m*\u001B[39m\u001B[38;5;241m*\u001B[39mkwargs)\n\u001B[0;32m    414\u001B[0m     \u001B[38;5;66;03m# Use `backend_name` in this function instead of `backend`\u001B[39;00m\n\u001B[0;32m    415\u001B[0m     backend_name \u001B[38;5;241m=\u001B[39m backend\n",
      "File \u001B[1;32m~\\.conda\\envs\\iub\\Lib\\site-packages\\networkx\\generators\\community.py:1054\u001B[0m, in \u001B[0;36mLFR_benchmark_graph\u001B[1;34m(n, tau1, tau2, mu, average_degree, min_degree, max_degree, min_community, max_community, tol, max_iters, seed)\u001B[0m\n\u001B[0;32m   1051\u001B[0m \u001B[38;5;66;03m# Generate the communities based on the given degree sequence and\u001B[39;00m\n\u001B[0;32m   1052\u001B[0m \u001B[38;5;66;03m# community sizes.\u001B[39;00m\n\u001B[0;32m   1053\u001B[0m max_iters \u001B[38;5;241m*\u001B[39m\u001B[38;5;241m=\u001B[39m \u001B[38;5;241m10\u001B[39m \u001B[38;5;241m*\u001B[39m n\n\u001B[1;32m-> 1054\u001B[0m communities \u001B[38;5;241m=\u001B[39m _generate_communities(deg_seq, comms, mu, max_iters, seed)\n\u001B[0;32m   1056\u001B[0m \u001B[38;5;66;03m# Finally, generate the benchmark graph based on the given\u001B[39;00m\n\u001B[0;32m   1057\u001B[0m \u001B[38;5;66;03m# communities, joining nodes according to the intra- and\u001B[39;00m\n\u001B[0;32m   1058\u001B[0m \u001B[38;5;66;03m# inter-community degrees.\u001B[39;00m\n\u001B[0;32m   1059\u001B[0m G \u001B[38;5;241m=\u001B[39m nx\u001B[38;5;241m.\u001B[39mGraph()\n",
      "File \u001B[1;32m~\\.conda\\envs\\iub\\Lib\\site-packages\\networkx\\generators\\community.py:807\u001B[0m, in \u001B[0;36m_generate_communities\u001B[1;34m(degree_seq, community_sizes, mu, max_iters, seed)\u001B[0m\n\u001B[0;32m    805\u001B[0m         \u001B[38;5;28;01mreturn\u001B[39;00m result\n\u001B[0;32m    806\u001B[0m msg \u001B[38;5;241m=\u001B[39m \u001B[38;5;124m\"\u001B[39m\u001B[38;5;124mCould not assign communities; try increasing min_community\u001B[39m\u001B[38;5;124m\"\u001B[39m\n\u001B[1;32m--> 807\u001B[0m \u001B[38;5;28;01mraise\u001B[39;00m nx\u001B[38;5;241m.\u001B[39mExceededMaxIterations(msg)\n",
      "\u001B[1;31mExceededMaxIterations\u001B[0m: Could not assign communities; try increasing min_community"
     ]
    }
   ],
   "execution_count": 1
  }
 ],
 "metadata": {
  "kernelspec": {
   "display_name": "Python 3",
   "language": "python",
   "name": "python3"
  },
  "language_info": {
   "codemirror_mode": {
    "name": "ipython",
    "version": 2
   },
   "file_extension": ".py",
   "mimetype": "text/x-python",
   "name": "python",
   "nbconvert_exporter": "python",
   "pygments_lexer": "ipython2",
   "version": "2.7.6"
  }
 },
 "nbformat": 4,
 "nbformat_minor": 5
}
