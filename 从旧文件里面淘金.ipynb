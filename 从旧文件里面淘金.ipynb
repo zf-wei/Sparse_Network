{
 "cells": [
  {
   "cell_type": "markdown",
   "id": "17dcf6f1",
   "metadata": {},
   "source": [
    "稀疏化比例 epsilon = 0.1\n",
    "\n",
    "每个 mu 值有100个 SAMPLE\n",
    "\n",
    "RAW_SCORE 这个文件中 对于每个mu值（可以看作第零个坐标）\n",
    "\n",
    "第一个坐标是样本编号\n",
    "\n",
    "第二个坐标 0 代表稀疏化的网络 1 代表原网络\n",
    "\n",
    "第三个坐标是方法 ['Euclidean NMI', 'Spherical NMI', 'Euclidean ECS', 'Spherical ECS']\n",
    "\n",
    "RAW_QF 这个文件中，对于每个mu值（可以看作第零个坐标）\n",
    "\n",
    "第一个坐标是样本编号\n",
    "\n",
    "第二个坐标 0 代表稀疏化的网络 1 代表原网络\n",
    "\n",
    "\n",
    "我们重新组织了文件之后，results_original 文件夹仅包含不删除任何边的原图的结果。"
   ]
  },
  {
   "cell_type": "code",
   "execution_count": 1,
   "id": "8b3ae91f",
   "metadata": {},
   "outputs": [],
   "source": [
    "#隐藏警告\n",
    "import warnings\n",
    "warnings.filterwarnings('ignore')\n",
    "\n",
    "graph_type = \"lfr\" # \"ppm\" or \"lfr\"\n",
    "embedding_method = \"n2v\" # \"lap\" or \"n2v\""
   ]
  },
  {
   "cell_type": "code",
   "execution_count": 2,
   "id": "9b06d521",
   "metadata": {},
   "outputs": [],
   "source": [
    "if graph_type == \"ppm\":\n",
    "    row_length = 6\n",
    "    step_total  = 18\n",
    "elif graph_type == \"lfr\":\n",
    "    row_length = 5\n",
    "    step_total  = 10\n",
    "\n",
    "\n",
    "import pickle\n",
    "import numpy as np\n",
    "\n",
    "step_size = 0.05\n",
    "MU = np.around(np.arange(step_size, step_size * step_total + 0.01, step_size), decimals=2)\n",
    "\n",
    "loaded_raw_score = {}\n",
    "loaded_raw_qf = {}\n",
    "\n",
    "for mu in MU:\n",
    "    mu_str = f\"{mu:.2f}\"\n",
    "    #从文件加载 RAW_SCORE\n",
    "    with open(f'results/{graph_type}_{embedding_method}_raw_score_mu{mu_str}.pkl', 'rb') as file:\n",
    "        loaded_raw_score[mu] = pickle.load(file)\n",
    "        #print(f\"RAW_SCORE 已成功从文件中加载\")\n",
    "    with open(f'results/{graph_type}_{embedding_method}_raw_qf_mu{mu_str}.pkl', 'rb') as file:\n",
    "        loaded_raw_qf[mu] = pickle.load(file)\n",
    "        #print(f\"RAW_QF 已成功从文件中加载\")"
   ]
  },
  {
   "cell_type": "code",
   "execution_count": 3,
   "id": "b3dfe5b1-f07f-4732-bc99-846b5f23a03e",
   "metadata": {},
   "outputs": [],
   "source": [
    "new_raw_score = {}\n",
    "new_raw_qf = {}\n",
    "for mu in MU:\n",
    "    new_raw_score[mu] = loaded_raw_score[mu][:,1,:]\n",
    "    new_raw_qf[mu] = loaded_raw_qf[mu][:,1]"
   ]
  },
  {
   "cell_type": "code",
   "execution_count": 4,
   "id": "e48e2ed8-67bb-4987-b83e-05f21379ff63",
   "metadata": {},
   "outputs": [
    {
     "name": "stdout",
     "output_type": "stream",
     "text": [
      "RAW_SCORE for mu=0.05 saved to results_original/lfr_original_n2v_raw_score_mu0.05.pkl\n",
      "RAW_QF for mu=0.05 saved to results_original/lfr_original_n2v_raw_qf_mu0.05.pkl\n",
      "RAW_SCORE for mu=0.10 saved to results_original/lfr_original_n2v_raw_score_mu0.10.pkl\n",
      "RAW_QF for mu=0.10 saved to results_original/lfr_original_n2v_raw_qf_mu0.10.pkl\n",
      "RAW_SCORE for mu=0.15 saved to results_original/lfr_original_n2v_raw_score_mu0.15.pkl\n",
      "RAW_QF for mu=0.15 saved to results_original/lfr_original_n2v_raw_qf_mu0.15.pkl\n",
      "RAW_SCORE for mu=0.20 saved to results_original/lfr_original_n2v_raw_score_mu0.20.pkl\n",
      "RAW_QF for mu=0.20 saved to results_original/lfr_original_n2v_raw_qf_mu0.20.pkl\n",
      "RAW_SCORE for mu=0.25 saved to results_original/lfr_original_n2v_raw_score_mu0.25.pkl\n",
      "RAW_QF for mu=0.25 saved to results_original/lfr_original_n2v_raw_qf_mu0.25.pkl\n",
      "RAW_SCORE for mu=0.30 saved to results_original/lfr_original_n2v_raw_score_mu0.30.pkl\n",
      "RAW_QF for mu=0.30 saved to results_original/lfr_original_n2v_raw_qf_mu0.30.pkl\n",
      "RAW_SCORE for mu=0.35 saved to results_original/lfr_original_n2v_raw_score_mu0.35.pkl\n",
      "RAW_QF for mu=0.35 saved to results_original/lfr_original_n2v_raw_qf_mu0.35.pkl\n",
      "RAW_SCORE for mu=0.40 saved to results_original/lfr_original_n2v_raw_score_mu0.40.pkl\n",
      "RAW_QF for mu=0.40 saved to results_original/lfr_original_n2v_raw_qf_mu0.40.pkl\n",
      "RAW_SCORE for mu=0.45 saved to results_original/lfr_original_n2v_raw_score_mu0.45.pkl\n",
      "RAW_QF for mu=0.45 saved to results_original/lfr_original_n2v_raw_qf_mu0.45.pkl\n",
      "RAW_SCORE for mu=0.50 saved to results_original/lfr_original_n2v_raw_score_mu0.50.pkl\n",
      "RAW_QF for mu=0.50 saved to results_original/lfr_original_n2v_raw_qf_mu0.50.pkl\n"
     ]
    }
   ],
   "source": [
    "import os\n",
    "os.makedirs(\"results_original\", exist_ok=True)\n",
    "\n",
    "for mu in MU:\n",
    "    mu_str = f\"{mu:.2f}\"\n",
    "    raw_score_path = f'results_original/{graph_type}_original_{embedding_method}_raw_score_mu{mu_str}.pkl'\n",
    "    with open(raw_score_path, 'wb') as file:\n",
    "        pickle.dump(new_raw_score[mu], file)\n",
    "    print(f\"RAW_SCORE for mu={mu_str} saved to {raw_score_path}\")\n",
    "\n",
    "    raw_qf_path = f'results_original/{graph_type}_original_{embedding_method}_raw_qf_mu{mu_str}.pkl'\n",
    "    with open(raw_qf_path, 'wb') as file:\n",
    "        pickle.dump(new_raw_qf[mu], file)\n",
    "    print(f\"RAW_QF for mu={mu_str} saved to {raw_qf_path}\")"
   ]
  }
 ],
 "metadata": {
  "kernelspec": {
   "display_name": "Python 3 (ipykernel)",
   "language": "python",
   "name": "python3"
  },
  "language_info": {
   "codemirror_mode": {
    "name": "ipython",
    "version": 3
   },
   "file_extension": ".py",
   "mimetype": "text/x-python",
   "name": "python",
   "nbconvert_exporter": "python",
   "pygments_lexer": "ipython3",
   "version": "3.12.7"
  }
 },
 "nbformat": 4,
 "nbformat_minor": 5
}
