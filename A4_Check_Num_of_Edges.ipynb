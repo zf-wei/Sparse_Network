{
 "cells": [
  {
   "cell_type": "code",
   "execution_count": 1,
   "id": "2a4344f4-c0bd-4b4b-b8aa-f07663dc3b7b",
   "metadata": {},
   "outputs": [],
   "source": [
    "import argparse\n",
    "import os\n",
    "import sys\n",
    "import pickle\n",
    "import numpy as np\n",
    "import networkx as nx\n",
    "\n",
    "current_dir = os.getcwd()\n",
    "sys.path.append(os.path.join(current_dir, 'utilities'))\n",
    "from utilities.tools import *"
   ]
  },
  {
   "cell_type": "code",
   "execution_count": 5,
   "id": "edd7ec44-1cdf-4b94-a7e9-9f5fe64faa42",
   "metadata": {},
   "outputs": [
    {
     "name": "stdout",
     "output_type": "stream",
     "text": [
      "0.8964897193339066\n",
      "0.8941798941798942\n",
      "0.9002269348149308\n",
      "0.9008760160997553\n",
      "0.8959943226620407\n",
      "0.8957878315132606\n",
      "0.9001640496836185\n",
      "0.8987222701262052\n",
      "0.8994755244755245\n",
      "0.8978618551784436\n",
      "0.8951985587843659\n",
      "0.8970680464095327\n",
      "0.8957989791912053\n",
      "0.8991444941527352\n",
      "0.8978498857997952\n",
      "0.8975390440132514\n",
      "0.8968203998111128\n",
      "0.8937091567593103\n"
     ]
    }
   ],
   "source": [
    "start_step = 0.05\n",
    "step_size = 0.05\n",
    "graph_type = \"ppm\"\n",
    "end_steps = {\"lfr\": 0.5, \"ppm\": 0.9}\n",
    "end_step = end_steps[graph_type]\n",
    "MU = np.around(np.arange(start_step, end_step + 0.01, step_size), decimals=2)\n",
    "i = 10\n",
    "for mu in MU:\n",
    "    graphs_original = load_graph_only(mu, graph_type, \"original\")\n",
    "    graphs_sparse = load_graph_only(mu, graph_type, \"sparse\")\n",
    "    print(graphs_sparse[i].number_of_edges()/graphs_original[i].number_of_edges())"
   ]
  }
 ],
 "metadata": {
  "kernelspec": {
   "display_name": "Python 3 (ipykernel)",
   "language": "python",
   "name": "python3"
  },
  "language_info": {
   "codemirror_mode": {
    "name": "ipython",
    "version": 3
   },
   "file_extension": ".py",
   "mimetype": "text/x-python",
   "name": "python",
   "nbconvert_exporter": "python",
   "pygments_lexer": "ipython3",
   "version": "3.12.7"
  }
 },
 "nbformat": 4,
 "nbformat_minor": 5
}
