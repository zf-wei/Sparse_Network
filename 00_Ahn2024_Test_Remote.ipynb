{
 "cells": [
  {
   "cell_type": "code",
   "execution_count": 17,
   "id": "initial_id",
   "metadata": {
    "ExecuteTime": {
     "end_time": "2024-11-01T04:01:11.376408Z",
     "start_time": "2024-11-01T04:01:11.373951Z"
    },
    "collapsed": true
   },
   "outputs": [
    {
     "name": "stdout",
     "output_type": "stream",
     "text": [
      "/qfs/people/weiz828/Ahn2024\n"
     ]
    }
   ],
   "source": [
    "import os\n",
    "print(os.getcwd())"
   ]
  },
  {
   "cell_type": "code",
   "execution_count": 18,
   "id": "ffa3cbc4456a108",
   "metadata": {
    "ExecuteTime": {
     "end_time": "2024-11-01T04:01:11.503185Z",
     "start_time": "2024-11-01T04:01:11.497408Z"
    }
   },
   "outputs": [
    {
     "name": "stdout",
     "output_type": "stream",
     "text": [
      "Node 0: Community 1\n",
      "Node 1: Community 1\n",
      "Node 2: Community 1\n",
      "Node 3: Community 1\n",
      "Node 4: Community 3\n",
      "Node 5: Community 3\n",
      "Node 6: Community 3\n",
      "Node 7: Community 1\n",
      "Node 8: Community 0\n",
      "Node 9: Community 0\n",
      "Node 10: Community 3\n",
      "Node 11: Community 1\n",
      "Node 12: Community 1\n",
      "Node 13: Community 1\n",
      "Node 14: Community 0\n",
      "Node 15: Community 0\n",
      "Node 16: Community 3\n",
      "Node 17: Community 1\n",
      "Node 18: Community 0\n",
      "Node 19: Community 1\n",
      "Node 20: Community 0\n",
      "Node 21: Community 1\n",
      "Node 22: Community 0\n",
      "Node 23: Community 2\n",
      "Node 24: Community 2\n",
      "Node 25: Community 2\n",
      "Node 26: Community 0\n",
      "Node 27: Community 2\n",
      "Node 28: Community 2\n",
      "Node 29: Community 0\n",
      "Node 30: Community 0\n",
      "Node 31: Community 2\n",
      "Node 32: Community 0\n",
      "Node 33: Community 0\n"
     ]
    }
   ],
   "source": [
    "import networkx as nx\n",
    "import igraph as ig\n",
    "import leidenalg as la\n",
    "\n",
    "# Step 1: Create a graph with NetworkX\n",
    "G_nx = nx.karate_club_graph()  # Zachary's Karate Club graph as an example\n",
    "\n",
    "# Step 2: Convert NetworkX graph to igraph\n",
    "# Use `to_numpy_array` instead of `to_numpy_matrix`\n",
    "G_ig = ig.Graph.Adjacency((nx.to_numpy_array(G_nx) > 0).tolist())\n",
    "G_ig.vs[\"name\"] = list(G_nx.nodes)\n",
    "\n",
    "# Step 3: Run the Leiden algorithm on the igraph graph\n",
    "partition = la.find_partition(G_ig, la.ModularityVertexPartition)\n",
    "\n",
    "# Step 4: Get the community membership for each node\n",
    "membership = partition.membership\n",
    "\n",
    "# Step 5: Print the membership for each node\n",
    "for node_id, community_id in enumerate(membership):\n",
    "    print(f\"Node {node_id}: Community {community_id}\")"
   ]
  }
 ],
 "metadata": {
  "kernelspec": {
   "display_name": "Python 3",
   "language": "python",
   "name": "python3"
  },
  "language_info": {
   "codemirror_mode": {
    "name": "ipython",
    "version": 2
   },
   "file_extension": ".py",
   "mimetype": "text/x-python",
   "name": "python",
   "nbconvert_exporter": "python",
   "pygments_lexer": "ipython2",
   "version": "2.7.6"
  }
 },
 "nbformat": 4,
 "nbformat_minor": 5
}
