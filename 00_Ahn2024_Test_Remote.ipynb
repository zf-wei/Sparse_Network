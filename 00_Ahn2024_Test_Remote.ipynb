{
 "cells": [
  {
   "cell_type": "code",
   "execution_count": 8,
   "id": "initial_id",
   "metadata": {
    "ExecuteTime": {
     "end_time": "2024-11-05T19:18:47.034432Z",
     "start_time": "2024-11-05T19:18:47.032270Z"
    },
    "collapsed": true
   },
   "outputs": [
    {
     "name": "stdout",
     "output_type": "stream",
     "text": [
      "/qfs/people/weiz828/Ahn2024\n"
     ]
    }
   ],
   "source": [
    "import os\n",
    "print(os.getcwd())"
   ]
  },
  {
   "cell_type": "code",
   "execution_count": 9,
   "id": "ffa3cbc4456a108",
   "metadata": {
    "ExecuteTime": {
     "end_time": "2024-11-05T19:19:06.582354Z",
     "start_time": "2024-11-05T19:18:47.195554Z"
    }
   },
   "outputs": [
    {
     "name": "stdout",
     "output_type": "stream",
     "text": [
      "0.05 started\n"
     ]
    },
    {
     "ename": "KeyboardInterrupt",
     "evalue": "",
     "output_type": "error",
     "traceback": [
      "\u001b[0;31m---------------------------------------------------------------------------\u001b[0m",
      "\u001b[0;31mKeyboardInterrupt\u001b[0m                         Traceback (most recent call last)",
      "Cell \u001b[0;32mIn[9], line 19\u001b[0m\n\u001b[1;32m     17\u001b[0m \u001b[38;5;28;01mfor\u001b[39;00m mu \u001b[38;5;129;01min\u001b[39;00m MU:\n\u001b[1;32m     18\u001b[0m     \u001b[38;5;28mprint\u001b[39m(mu, \u001b[38;5;124m\"\u001b[39m\u001b[38;5;124mstarted\u001b[39m\u001b[38;5;124m\"\u001b[39m)\n\u001b[0;32m---> 19\u001b[0m     G \u001b[38;5;241m=\u001b[39m LFR_benchmark_graph(\n\u001b[1;32m     20\u001b[0m         n, tau1, tau2, mu, average_degree\u001b[38;5;241m=\u001b[39mavg_deg, max_degree\u001b[38;5;241m=\u001b[39mmax_deg,\n\u001b[1;32m     21\u001b[0m         min_community\u001b[38;5;241m=\u001b[39mmin_commu, max_community\u001b[38;5;241m=\u001b[39mmax_commu, seed\u001b[38;5;241m=\u001b[39m\u001b[38;5;241m2024\u001b[39m\n\u001b[1;32m     22\u001b[0m     )\n\u001b[1;32m     23\u001b[0m     \u001b[38;5;28mprint\u001b[39m(mu, \u001b[38;5;124m\"\u001b[39m\u001b[38;5;124mcompleted\u001b[39m\u001b[38;5;124m\"\u001b[39m)\n",
      "File \u001b[0;32m<class 'networkx.utils.decorators.argmap'> compilation 5:4\u001b[0m, in \u001b[0;36margmap_LFR_benchmark_graph_1\u001b[0;34m(n, tau1, tau2, mu, average_degree, min_degree, max_degree, min_community, max_community, tol, max_iters, seed, backend, **backend_kwargs)\u001b[0m\n\u001b[1;32m      2\u001b[0m \u001b[38;5;28;01mimport\u001b[39;00m \u001b[38;5;21;01mcollections\u001b[39;00m\n\u001b[1;32m      3\u001b[0m \u001b[38;5;28;01mimport\u001b[39;00m \u001b[38;5;21;01mgzip\u001b[39;00m\n\u001b[0;32m----> 4\u001b[0m \u001b[38;5;28;01mimport\u001b[39;00m \u001b[38;5;21;01minspect\u001b[39;00m\n\u001b[1;32m      5\u001b[0m \u001b[38;5;28;01mimport\u001b[39;00m \u001b[38;5;21;01mitertools\u001b[39;00m\n\u001b[1;32m      6\u001b[0m \u001b[38;5;28;01mimport\u001b[39;00m \u001b[38;5;21;01mre\u001b[39;00m\n",
      "File \u001b[0;32m~/.conda/envs/iub/lib/python3.12/site-packages/networkx/utils/backends.py:633\u001b[0m, in \u001b[0;36m_dispatchable.__call__\u001b[0;34m(self, backend, *args, **kwargs)\u001b[0m\n\u001b[1;32m    628\u001b[0m \u001b[38;5;250m\u001b[39m\u001b[38;5;124;03m\"\"\"Returns the result of the original function, or the backend function if\u001b[39;00m\n\u001b[1;32m    629\u001b[0m \u001b[38;5;124;03mthe backend is specified and that backend implements `func`.\"\"\"\u001b[39;00m\n\u001b[1;32m    631\u001b[0m \u001b[38;5;28;01mif\u001b[39;00m \u001b[38;5;129;01mnot\u001b[39;00m backends:\n\u001b[1;32m    632\u001b[0m     \u001b[38;5;66;03m# Fast path if no backends are installed\u001b[39;00m\n\u001b[0;32m--> 633\u001b[0m     \u001b[38;5;28;01mreturn\u001b[39;00m \u001b[38;5;28mself\u001b[39m\u001b[38;5;241m.\u001b[39morig_func(\u001b[38;5;241m*\u001b[39margs, \u001b[38;5;241m*\u001b[39m\u001b[38;5;241m*\u001b[39mkwargs)\n\u001b[1;32m    635\u001b[0m \u001b[38;5;66;03m# Use `backend_name` in this function instead of `backend`\u001b[39;00m\n\u001b[1;32m    636\u001b[0m backend_name \u001b[38;5;241m=\u001b[39m backend\n",
      "File \u001b[0;32m~/.conda/envs/iub/lib/python3.12/site-packages/networkx/generators/community.py:1052\u001b[0m, in \u001b[0;36mLFR_benchmark_graph\u001b[0;34m(n, tau1, tau2, mu, average_degree, min_degree, max_degree, min_community, max_community, tol, max_iters, seed)\u001b[0m\n\u001b[1;32m   1049\u001b[0m \u001b[38;5;66;03m# Generate the communities based on the given degree sequence and\u001b[39;00m\n\u001b[1;32m   1050\u001b[0m \u001b[38;5;66;03m# community sizes.\u001b[39;00m\n\u001b[1;32m   1051\u001b[0m max_iters \u001b[38;5;241m*\u001b[39m\u001b[38;5;241m=\u001b[39m \u001b[38;5;241m10\u001b[39m \u001b[38;5;241m*\u001b[39m n\n\u001b[0;32m-> 1052\u001b[0m communities \u001b[38;5;241m=\u001b[39m _generate_communities(deg_seq, comms, mu, max_iters, seed)\n\u001b[1;32m   1054\u001b[0m \u001b[38;5;66;03m# Finally, generate the benchmark graph based on the given\u001b[39;00m\n\u001b[1;32m   1055\u001b[0m \u001b[38;5;66;03m# communities, joining nodes according to the intra- and\u001b[39;00m\n\u001b[1;32m   1056\u001b[0m \u001b[38;5;66;03m# inter-community degrees.\u001b[39;00m\n\u001b[1;32m   1057\u001b[0m G \u001b[38;5;241m=\u001b[39m nx\u001b[38;5;241m.\u001b[39mGraph()\n",
      "File \u001b[0;32m~/.conda/envs/iub/lib/python3.12/site-packages/networkx/generators/community.py:791\u001b[0m, in \u001b[0;36m_generate_communities\u001b[0;34m(degree_seq, community_sizes, mu, max_iters, seed)\u001b[0m\n\u001b[1;32m    789\u001b[0m c \u001b[38;5;241m=\u001b[39m seed\u001b[38;5;241m.\u001b[39mchoice(\u001b[38;5;28mrange\u001b[39m(\u001b[38;5;28mlen\u001b[39m(community_sizes)))\n\u001b[1;32m    790\u001b[0m \u001b[38;5;66;03m# s = int(degree_seq[v] * (1 - mu) + 0.5)\u001b[39;00m\n\u001b[0;32m--> 791\u001b[0m s \u001b[38;5;241m=\u001b[39m \u001b[38;5;28mround\u001b[39m(degree_seq[v] \u001b[38;5;241m*\u001b[39m (\u001b[38;5;241m1\u001b[39m \u001b[38;5;241m-\u001b[39m mu))\n\u001b[1;32m    792\u001b[0m \u001b[38;5;66;03m# If the community is large enough, add the node to the chosen\u001b[39;00m\n\u001b[1;32m    793\u001b[0m \u001b[38;5;66;03m# community. Otherwise, return it to the list of unaffiliated\u001b[39;00m\n\u001b[1;32m    794\u001b[0m \u001b[38;5;66;03m# nodes.\u001b[39;00m\n\u001b[1;32m    795\u001b[0m \u001b[38;5;28;01mif\u001b[39;00m s \u001b[38;5;241m<\u001b[39m community_sizes[c]:\n",
      "\u001b[0;31mKeyboardInterrupt\u001b[0m: "
     ]
    }
   ],
   "source": [
    "from networkx.generators.community import LFR_benchmark_graph\n",
    "import numpy as np\n",
    "\n",
    "step_total = 10\n",
    "step_size = 0.05\n",
    "\n",
    "n = 10000\n",
    "tau1 = 2  # Power-law exponent for the degree distribution\n",
    "tau2 = 1.1  # Power-law exponent for the community size distribution\n",
    "avg_deg = 25  # Average Degree\n",
    "max_deg = int(0.1 * n)  # Max Degree\n",
    "min_commu = 300  # Min Community Size\n",
    "max_commu = int(0.1 * n)  # Max Community Size   \n",
    "       \n",
    "MU = np.around(np.arange(step_size, step_size * step_total + 0.01, step_size), decimals=2)\n",
    "\n",
    "for mu in MU:\n",
    "    print(mu, \"started\")\n",
    "    G = LFR_benchmark_graph(\n",
    "        n, tau1, tau2, mu, average_degree=avg_deg, max_degree=max_deg,\n",
    "        min_community=min_commu, max_community=max_commu, seed=2024\n",
    "    )\n",
    "    print(mu, \"completed\")"
   ]
  }
 ],
 "metadata": {
  "kernelspec": {
   "display_name": "Python 3",
   "language": "python",
   "name": "python3"
  },
  "language_info": {
   "codemirror_mode": {
    "name": "ipython",
    "version": 2
   },
   "file_extension": ".py",
   "mimetype": "text/x-python",
   "name": "python",
   "nbconvert_exporter": "python",
   "pygments_lexer": "ipython2",
   "version": "2.7.6"
  }
 },
 "nbformat": 4,
 "nbformat_minor": 5
}
